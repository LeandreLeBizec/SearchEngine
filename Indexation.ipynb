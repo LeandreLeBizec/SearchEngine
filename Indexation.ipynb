{
 "cells": [
  {
   "cell_type": "markdown",
   "id": "c1fa9811",
   "metadata": {},
   "source": [
    "# 1 - Importation des requêtes"
   ]
  },
  {
   "cell_type": "code",
   "execution_count": 1,
   "id": "b1a5a9ac",
   "metadata": {},
   "outputs": [],
   "source": [
    "import pandas as pd\n",
    "import numpy as np"
   ]
  },
  {
   "cell_type": "code",
   "execution_count": 2,
   "id": "3e44d967",
   "metadata": {},
   "outputs": [],
   "source": [
    "import spacy\n",
    "nlp = spacy.load(\"en_core_web_md\")"
   ]
  },
  {
   "cell_type": "code",
   "execution_count": 3,
   "id": "d3027b75",
   "metadata": {},
   "outputs": [
    {
     "data": {
      "text/plain": [
       "1105"
      ]
     },
     "execution_count": 3,
     "metadata": {},
     "output_type": "execute_result"
    }
   ],
   "source": [
    "datareq = open(\"CISI_dev.QRY\",\"r\").read().replace('\\n',\"\").split(\".I \")\n",
    "\n",
    "tabreq=[]\n",
    "dico=[]\n",
    "for i in range(len(datareq)) :\n",
    "    req = nlp(datareq[i])\n",
    "    tabreq.append([])\n",
    "    for token in req :\n",
    "        tabreq[i].append(token.lemma_)\n",
    "        if token.lemma_ not in dico :\n",
    "            dico.append(token.lemma_)\n",
    "\n",
    "len(dico)"
   ]
  },
  {
   "cell_type": "markdown",
   "id": "204522cb",
   "metadata": {},
   "source": [
    "# 2 - Importation des documents"
   ]
  },
  {
   "cell_type": "code",
   "execution_count": null,
   "id": "1d2c3716",
   "metadata": {},
   "outputs": [],
   "source": [
    "datadoc = open(\"CISI.ALLnettoye\",\"r\").read().split(\".I \")\n",
    "\n",
    "tabdoc=[]\n",
    "for i in range(len(datadoc)) :\n",
    "    doc = nlp(datadoc[i])\n",
    "    tabdoc.append([])\n",
    "    for token in doc :\n",
    "        tabdoc[i].append(token.lemma_)\n",
    "        if token.lemma_ not in dico :\n",
    "            dico.append(token.lemma_)\n",
    "\n",
    "len(dico)"
   ]
  },
  {
   "cell_type": "markdown",
   "id": "22f4d640",
   "metadata": {},
   "source": [
    "# 3 - Réduction du dictionnaire"
   ]
  },
  {
   "cell_type": "markdown",
   "id": "700a3818",
   "metadata": {},
   "source": [
    "Ici on enlève les .W, .T, ... ainsi que tous les nombres."
   ]
  },
  {
   "cell_type": "code",
   "execution_count": null,
   "id": "aad90638",
   "metadata": {},
   "outputs": [],
   "source": [
    "stoplist=[\".w\",\".t\",\".a\",\".b\",\".\",\",\",\";\",\"-\",\"?\"]\n",
    "for i in range(len(dico)) :\n",
    "    dico[i] = ''.join([i for i in dico[i] if not i.isdigit()])\n",
    "    for a in stoplist :\n",
    "        dico[i] = dico[i].replace(a,\"\")\n",
    "        if dico[i]==\"\"  :\n",
    "            dico.pop(i)\n",
    "len(dico)"
   ]
  },
  {
   "cell_type": "markdown",
   "id": "8392aa6c",
   "metadata": {},
   "source": [
    "# 3 - Création des vecteurs"
   ]
  },
  {
   "cell_type": "code",
   "execution_count": null,
   "id": "8836a51a",
   "metadata": {},
   "outputs": [],
   "source": [
    "vecreq=np.empty((len(dico),len(tabreq)))\n",
    "for i in range(len(dico)) :\n",
    "    for j in range(len(tabreq)) :\n",
    "            if dico[i] in tabreq[j] :\n",
    "                vecreq[i][j]=1\n",
    "            else :\n",
    "                vecreq[i][j]=0\n",
    "                \n",
    "len(vecreq)"
   ]
  },
  {
   "cell_type": "code",
   "execution_count": null,
   "id": "499d12ae",
   "metadata": {},
   "outputs": [],
   "source": [
    "vecdoc=np.empty((len(tabdoc),len(dico)))\n",
    "for j in range(30) :\n",
    "    for i in range(len(dico)) :\n",
    "            if dico[i] in tabdoc[j] :\n",
    "                vecdoc[j][i]=1\n",
    "            else :\n",
    "                vecdoc[j][i]=0\n",
    "                \n",
    "vecdoc"
   ]
  },
  {
   "cell_type": "markdown",
   "id": "65a24240",
   "metadata": {},
   "source": [
    "# 4 - Création du fichier inversé"
   ]
  },
  {
   "cell_type": "code",
   "execution_count": null,
   "id": "42addd56",
   "metadata": {},
   "outputs": [],
   "source": []
  }
 ],
 "metadata": {
  "kernelspec": {
   "display_name": "Python 3 (ipykernel)",
   "language": "python",
   "name": "python3"
  },
  "language_info": {
   "codemirror_mode": {
    "name": "ipython",
    "version": 3
   },
   "file_extension": ".py",
   "mimetype": "text/x-python",
   "name": "python",
   "nbconvert_exporter": "python",
   "pygments_lexer": "ipython3",
   "version": "3.9.7"
  }
 },
 "nbformat": 4,
 "nbformat_minor": 5
}
