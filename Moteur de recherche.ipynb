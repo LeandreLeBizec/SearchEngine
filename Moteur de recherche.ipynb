{
 "cells": [
  {
   "cell_type": "markdown",
   "id": "0880d0cb",
   "metadata": {},
   "source": [
    "# Moteur de recherche"
   ]
  },
  {
   "cell_type": "markdown",
   "id": "af3971d6",
   "metadata": {},
   "source": [
    "Le moteur de recherche prend en entré un vecteur ( la requête ) et compare ce vecteur avec les vecteurs des documents ( via un calcul de distance entre ces vecteurs par exemple ). On renvoie ensuite la lsite des documents triés dans l'ordre croissant, ainsi, le document avec la plus faible distance sera affiché en premier."
   ]
  },
  {
   "cell_type": "markdown",
   "id": "e2231e12",
   "metadata": {},
   "source": [
    "## I - comparer la distance entre 2 vecteurs "
   ]
  },
  {
   "cell_type": "code",
   "execution_count": 7,
   "id": "c6cc732a",
   "metadata": {},
   "outputs": [],
   "source": [
    "import numpy as np #pour cosine(A,B)"
   ]
  },
  {
   "cell_type": "code",
   "execution_count": 14,
   "id": "7a37197e",
   "metadata": {},
   "outputs": [
    {
     "name": "stdout",
     "output_type": "stream",
     "text": [
      "0.40824829046386296\n"
     ]
    }
   ],
   "source": [
    "vec1 = [0,1,1,0,1]\n",
    "vec2 = [0,1,0,1,0]\n",
    "\n",
    "d = np.dot(vec1,vec2) / (np.linalg.norm(vec1)*np.linalg.norm(vec2))\n",
    "print(d)\n",
    "\n",
    "def calculDistance(vec1, vec2):\n",
    "    d = np.dot(vec1,vec2) / (np.linalg.norm(vec1)*np.linalg.norm(vec2))\n",
    "    return d"
   ]
  },
  {
   "cell_type": "code",
   "execution_count": null,
   "id": "cc16e709",
   "metadata": {},
   "outputs": [],
   "source": [
    "#importer corpusDocument\n",
    "#importer coprusRequete\n",
    "#trequete = requete que l'on veut tester\n",
    "\n",
    "Res = []\n",
    "for doc in corpusDocument :\n",
    "    Res.append(calculDistance(doc,requete))\n",
    "    \n",
    "Res.sort()\n",
    "\n",
    "Res"
   ]
  }
 ],
 "metadata": {
  "kernelspec": {
   "display_name": "Python 3 (ipykernel)",
   "language": "python",
   "name": "python3"
  },
  "language_info": {
   "codemirror_mode": {
    "name": "ipython",
    "version": 3
   },
   "file_extension": ".py",
   "mimetype": "text/x-python",
   "name": "python",
   "nbconvert_exporter": "python",
   "pygments_lexer": "ipython3",
   "version": "3.8.10"
  }
 },
 "nbformat": 4,
 "nbformat_minor": 5
}
