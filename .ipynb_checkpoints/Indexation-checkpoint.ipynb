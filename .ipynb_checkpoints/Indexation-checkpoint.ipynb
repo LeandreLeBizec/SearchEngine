{
 "cells": [
  {
   "cell_type": "markdown",
   "id": "c1fa9811",
   "metadata": {},
   "source": [
    "# 1 - Importation des requêtes"
   ]
  },
  {
   "cell_type": "code",
   "execution_count": 1,
   "id": "b1a5a9ac",
   "metadata": {},
   "outputs": [],
   "source": [
    "import pandas as pd\n",
    "import numpy as np"
   ]
  },
  {
   "cell_type": "code",
   "execution_count": 2,
   "id": "b666d860",
   "metadata": {},
   "outputs": [],
   "source": [
    "import spacy\n",
    "nlp = spacy.load(\"en_core_web_md\")"
   ]
  },
  {
   "cell_type": "code",
   "execution_count": 3,
   "id": "d3027b75",
   "metadata": {},
   "outputs": [
    {
     "data": {
      "text/plain": [
       "1105"
      ]
     },
     "execution_count": 3,
     "metadata": {},
     "output_type": "execute_result"
    }
   ],
   "source": [
    "datareq = open(\"CISI_dev.QRY\",\"r\").read().replace('\\n',\"\").split(\".I \")\n",
    "\n",
    "tabreq=[]\n",
    "dico=[]\n",
    "for i in range(len(datareq)) :\n",
    "    req = nlp(datareq[i])\n",
    "    tabreq.append([])\n",
    "    for token in req :\n",
    "        tabreq[i].append(token.lemma_)\n",
    "        if token.lemma_ not in dico :\n",
    "            dico.append(token.lemma_)\n",
    "\n",
    "len(dico)"
   ]
  },
  {
   "cell_type": "markdown",
   "id": "204522cb",
   "metadata": {},
   "source": [
    "# 2 - Importation des documents"
   ]
  },
  {
   "cell_type": "code",
   "execution_count": 4,
   "id": "1d2c3716",
   "metadata": {},
   "outputs": [
    {
     "data": {
      "text/plain": [
       "11327"
      ]
     },
     "execution_count": 4,
     "metadata": {},
     "output_type": "execute_result"
    }
   ],
   "source": [
    "datadoc = open(\"CISI.ALLnettoye\",\"r\").read().split(\".I \")\n",
    "\n",
    "tabdoc=[]\n",
    "for i in range(len(datadoc)) :\n",
    "    doc = nlp(datadoc[i])\n",
    "    tabdoc.append([])\n",
    "    for token in doc :\n",
    "        tabdoc[i].append(token.lemma_)\n",
    "        if token.lemma_ not in dico :\n",
    "            dico.append(token.lemma_)\n",
    "\n",
    "len(dico)"
   ]
  },
  {
   "cell_type": "markdown",
   "id": "22f4d640",
   "metadata": {},
   "source": [
    "# 3 - Réduction du dictionnaire, du tableau des requête et des document"
   ]
  },
  {
   "cell_type": "markdown",
   "id": "a18de256",
   "metadata": {},
   "source": [
    "Ici on enlève les .W, .T, ... ainsi que tous les nombres."
   ]
  },
  {
   "cell_type": "code",
   "execution_count": 5,
   "id": "aad90638",
   "metadata": {},
   "outputs": [
    {
     "data": {
      "text/plain": [
       "11327"
      ]
     },
     "execution_count": 5,
     "metadata": {},
     "output_type": "execute_result"
    }
   ],
   "source": [
    "stoplist=[\".w\",\".t\",\".a\",\".b\",\".\",\",\",\";\",\"-\",\"?\"]\n",
    "for j in range(len(dico)) :\n",
    "    dico[j] = ''.join([i for i in dico[i] if not i.isdigit()])\n",
    "    for a in stoplist :\n",
    "        dico[j] = dico[j].replace(a,\"\")\n",
    "        if dico[j]==\"\"  :\n",
    "            dico.pop(j)\n",
    "len(dico)"
   ]
  },
  {
   "cell_type": "markdown",
   "id": "8392aa6c",
   "metadata": {},
   "source": [
    "# 3 - Création des vecteurs"
   ]
  },
  {
   "cell_type": "code",
   "execution_count": 6,
   "id": "8836a51a",
   "metadata": {},
   "outputs": [
    {
     "data": {
      "text/plain": [
       "11327"
      ]
     },
     "execution_count": 6,
     "metadata": {},
     "output_type": "execute_result"
    }
   ],
   "source": [
    "vecreq=np.empty((len(dico),len(tabreq)))\n",
    "for i in range(len(dico)) :\n",
    "    for j in range(len(tabreq)) :\n",
    "            if dico[i] in tabreq[j] :\n",
    "                vecreq[i][j]=1\n",
    "            else :\n",
    "                vecreq[i][j]=0\n",
    "                \n",
    "len(vecreq)"
   ]
  },
  {
   "cell_type": "code",
   "execution_count": 9,
   "id": "499d12ae",
   "metadata": {},
   "outputs": [
    {
     "data": {
      "text/plain": [
       "1461"
      ]
     },
     "execution_count": 9,
     "metadata": {},
     "output_type": "execute_result"
    }
   ],
   "source": [
    "vecdoc=np.empty((len(tabdoc),len(dico)))\n",
    "for j in range(30) :\n",
    "    for i in range(len(dico)) :\n",
    "            if dico[i] in tabdoc[j] :\n",
    "                vecdoc[j][i]=1\n",
    "            else :\n",
    "                vecdoc[j][i]=0\n",
    "                \n",
    "len(vecdoc)"
   ]
  },
  {
   "cell_type": "markdown",
   "id": "270ea343",
   "metadata": {},
   "source": [
    "# 4 - Création du fichier inversé"
   ]
  },
  {
   "cell_type": "code",
   "execution_count": 15,
   "id": "e2221995",
   "metadata": {},
   "outputs": [
    {
     "ename": "SyntaxError",
     "evalue": "invalid syntax (3792890485.py, line 6)",
     "output_type": "error",
     "traceback": [
      "\u001b[0;36m  File \u001b[0;32m\"/var/folders/dk/ms2w438x46jdsjdpnytgwydw0000gn/T/ipykernel_10789/3792890485.py\"\u001b[0;36m, line \u001b[0;32m6\u001b[0m\n\u001b[0;31m    else:\u001b[0m\n\u001b[0m    ^\u001b[0m\n\u001b[0;31mSyntaxError\u001b[0m\u001b[0;31m:\u001b[0m invalid syntax\n"
     ]
    }
   ],
   "source": [
    "file = open(\"vecreq.txt\",\"w\")\n",
    "for i in range(len(vecreq)) :\n",
    "    for j in range(len(vecreq[i])) :\n",
    "        if j == 0 :\n",
    "            file.write(\"\\n\"+str(vecreq[i][j])\n",
    "        else:\n",
    "            file.write(str(vecreq[i][j])"
   ]
  }
 ],
 "metadata": {
  "kernelspec": {
   "display_name": "Python 3 (ipykernel)",
   "language": "python",
   "name": "python3"
  },
  "language_info": {
   "codemirror_mode": {
    "name": "ipython",
    "version": 3
   },
   "file_extension": ".py",
   "mimetype": "text/x-python",
   "name": "python",
   "nbconvert_exporter": "python",
   "pygments_lexer": "ipython3",
   "version": "3.8.10"
  }
 },
 "nbformat": 4,
 "nbformat_minor": 5
}
